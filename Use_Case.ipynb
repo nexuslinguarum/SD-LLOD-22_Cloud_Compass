{
  "nbformat": 4,
  "nbformat_minor": 0,
  "metadata": {
    "colab": {
      "name": "Use Case.ipynb",
      "provenance": [],
      "collapsed_sections": [],
      "authorship_tag": "ABX9TyPyog9NPl8k36zNb+NmtiWC",
      "include_colab_link": true
    },
    "kernelspec": {
      "name": "python3",
      "display_name": "Python 3"
    },
    "language_info": {
      "name": "python"
    }
  },
  "cells": [
    {
      "cell_type": "markdown",
      "metadata": {
        "id": "view-in-github",
        "colab_type": "text"
      },
      "source": [
        "<a href=\"https://colab.research.google.com/github/serasset/llod-cloud-evaluator/blob/main/Use_Case.ipynb\" target=\"_parent\"><img src=\"https://colab.research.google.com/assets/colab-badge.svg\" alt=\"Open In Colab\"/></a>"
      ]
    },
    {
      "cell_type": "code",
      "execution_count": null,
      "metadata": {
        "id": "Mqeg_D-vu85e"
      },
      "outputs": [],
      "source": [
        ""
      ]
    },
    {
      "cell_type": "markdown",
      "source": [
        "# Evaluate if one can use the LLOD cloud to translate a specific resource\n",
        "\n",
        "Use case: you are a linguist and you have a specific dataset that you would like to translate in one or several languages. You consider using some resources available in the cloud for this task, but you don't know which resource you should turn to nor in which extend this resource will be fit for your specific task.\n",
        "\n",
        "Here, we show you how you can evaluate the \n",
        "\n",
        "## Input Resource Modeling\n",
        "\n"
      ],
      "metadata": {
        "id": "S-k5uRAhvAGy"
      }
    }
  ]
}