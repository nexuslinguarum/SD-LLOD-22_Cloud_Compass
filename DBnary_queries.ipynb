{
  "nbformat": 4,
  "nbformat_minor": 0,
  "metadata": {
    "colab": {
      "name": "DBnary-queries.ipynb",
      "provenance": [],
      "authorship_tag": "ABX9TyOVD4MAxkKjpsEwa1qMQLqx",
      "include_colab_link": true
    },
    "kernelspec": {
      "name": "python3",
      "display_name": "Python 3"
    },
    "language_info": {
      "name": "python"
    }
  },
  "cells": [
    {
      "cell_type": "markdown",
      "metadata": {
        "id": "view-in-github",
        "colab_type": "text"
      },
      "source": [
        "<a href=\"https://colab.research.google.com/github/serasset/llod-cloud-evaluator/blob/main/DBnary_queries.ipynb\" target=\"_parent\"><img src=\"https://colab.research.google.com/assets/colab-badge.svg\" alt=\"Open In Colab\"/></a>"
      ]
    },
    {
      "cell_type": "code",
      "execution_count": null,
      "metadata": {
        "id": "8FCQAEiwAoWc"
      },
      "outputs": [],
      "source": [
        ""
      ]
    },
    {
      "cell_type": "markdown",
      "source": [
        "# Getting translation from a specific entry\n",
        "\n",
        "```\n",
        "PREFIX ontolex: <http://www.w3.org/ns/lemon/ontolex#>\n",
        "PREFIX rdfs: <http://www.w3.org/2000/01/rdf-schema#>\n",
        "PREFIX dcterm: <http://purl.org/dc/terms/>\n",
        "PREFIX lexvo: <http://lexvo.org/id/iso639-3/>\n",
        "PREFIX lime: <http://www.w3.org/ns/lemon/lime#>\n",
        "\n",
        "SELECT *\n",
        "WHERE { \n",
        "    ?le a ontolex:LexicalEntry ; rdfs:label \"trope\"@fr .\n",
        "  ?tr a dbnary:Translation ;\n",
        "     dbnary:isTranslationOf ?le ;\n",
        "     dbnary:writtenForm ?trans ;\n",
        "     dbnary:targetLanguage ?tl.\n",
        "  ?le2 a ontolex:LexicalEntry ; rdfs:label ?trans .\n",
        "?tr2 a dbnary:Translation ;\n",
        "     dbnary:isTranslationOf ?le2;\n",
        "     dbnary:writtenForm ?trans2 ;\n",
        "     dbnary:targetLanguage ?tl2.\n",
        "} \n",
        "```\n",
        "\n",
        "More text here\n",
        "\n",
        "```\n",
        "\n",
        "```"
      ],
      "metadata": {
        "id": "C3tZhwoZApGq"
      }
    },
    {
      "cell_type": "code",
      "source": [
        ""
      ],
      "metadata": {
        "id": "idUm9B49A0qv"
      },
      "execution_count": null,
      "outputs": []
    }
  ]
}