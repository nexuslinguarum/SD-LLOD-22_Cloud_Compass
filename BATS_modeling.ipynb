{
  "nbformat": 4,
  "nbformat_minor": 0,
  "metadata": {
    "colab": {
      "name": "BATS-modeling.ipynb",
      "provenance": [],
      "include_colab_link": true
    },
    "kernelspec": {
      "name": "python3",
      "display_name": "Python 3"
    },
    "language_info": {
      "name": "python"
    }
  },
  "cells": [
    {
      "cell_type": "markdown",
      "metadata": {
        "id": "view-in-github",
        "colab_type": "text"
      },
      "source": [
        "<a href=\"https://colab.research.google.com/github/serasset/llod-cloud-evaluator/blob/main/BATS_modeling.ipynb\" target=\"_parent\"><img src=\"https://colab.research.google.com/assets/colab-badge.svg\" alt=\"Open In Colab\"/></a>"
      ]
    },
    {
      "cell_type": "code",
      "execution_count": null,
      "metadata": {
        "id": "P9n_3Nycx3gp"
      },
      "outputs": [],
      "source": [
        ""
      ]
    },
    {
      "cell_type": "markdown",
      "source": [
        "# Transforming BATS to RDF\n",
        "\n",
        "Example of BATS structure: \n",
        "```\n",
        "acrobat\ttroupe\n",
        "antelope\therd\n",
        "bee\tswarm/hive/colony/drift/cast/nest/rabble/stand\n",
        "bird\tflock\n",
        "book\tlibrary/shelf/collection/accounting/accounting_system/method_of_accounting\n",
        "````\n",
        "\n",
        "Modeling in RDF, using Ontolex:\n",
        "\n",
        "```\n",
        "PREFIX...\n",
        "\n",
        ":acrobat a ontolex:LexicalEntry;\n",
        "  rdfs:label \"acrobat\"@en.\n",
        "\n",
        ":troupe a ontolex:LexicalEntry;\n",
        "  rdfs:label \"troupe\"@en.\n",
        "\n",
        ":meroMemember_01 a rdf:Relation;\n",
        "  rdf:source :acrobat ;\n",
        "  rdf:target :troupe ;\n",
        "  rdf:property bats:meronym_member ;\n",
        "  bats:rank \"1\"@int .\n",
        "\n",
        "```\n"
      ],
      "metadata": {
        "id": "3wBILg8Ix4cY"
      }
    },
    {
      "cell_type": "code",
      "source": [
        "from rdflib import URIRef, BNode, Literal, Namespace\n",
        "\n",
        "with open(...) as f:\n",
        "    \n",
        "    for line in f:\n",
        "      \n",
        "      terms = line.split()\n",
        "      entry = terms[0]\n",
        "      associated_terms = terms.split('/')\n",
        "\n",
        "\n",
        "      # TODO: SPECIFY PREFIX - bats url\n",
        "      prefix_namespace = Namespace(\"...\")\n",
        "\n",
        "      # TODO: specify ontolex\n",
        "      onto_namespace = Namespace(\"...\")\n",
        "      onto_namespace.LexicalEntry\n",
        "\n",
        "      subj = URIRef(\".../{entry}\")\n",
        "\n",
        "      g = Graph()\n",
        "      g.bind(prefix_namespace)\n",
        "\n",
        "      g.add((subj, RDF.type, onto_namespace.LexicalEntry))\n",
        "      g.add()\n",
        "\n",
        "\n",
        "\n",
        "\n",
        "\n",
        "\n",
        "      g.serialize()\n",
        "\n",
        "\n",
        "\n",
        "\n",
        "\n",
        "\n",
        "      \n"
      ],
      "metadata": {
        "id": "EsGi7BMO07Ua"
      },
      "execution_count": null,
      "outputs": []
    }
  ]
}