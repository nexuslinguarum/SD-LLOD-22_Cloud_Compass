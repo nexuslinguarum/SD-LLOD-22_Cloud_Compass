{
  "nbformat": 4,
  "nbformat_minor": 0,
  "metadata": {
    "colab": {
      "name": "BATS-modeling.ipynb",
      "provenance": [],
      "include_colab_link": true
    },
    "kernelspec": {
      "name": "python3",
      "display_name": "Python 3"
    },
    "language_info": {
      "name": "python"
    }
  },
  "cells": [
    {
      "cell_type": "markdown",
      "metadata": {
        "id": "view-in-github",
        "colab_type": "text"
      },
      "source": [
        "<a href=\"https://colab.research.google.com/github/serasset/llod-cloud-evaluator/blob/main/BATS_modeling.ipynb\" target=\"_parent\"><img src=\"https://colab.research.google.com/assets/colab-badge.svg\" alt=\"Open In Colab\"/></a>"
      ]
    },
    {
      "cell_type": "code",
      "execution_count": null,
      "metadata": {
        "id": "P9n_3Nycx3gp"
      },
      "outputs": [],
      "source": [
        ""
      ]
    },
    {
      "cell_type": "markdown",
      "source": [
        "\n",
        "# Transforming BATS to RDF\n",
        "\n",
        "Example of BATS structure: \n",
        "```\n",
        "acrobat\ttroupe\n",
        "antelope\therd\n",
        "bee\tswarm/hive/colony/drift/cast/nest/rabble/stand\n",
        "bird\tflock\n",
        "book\tlibrary/shelf/collection/accounting/accounting_system/method_of_accounting\n",
        "````\n",
        "\n",
        "Modeling in RDF, using Ontolex:\n",
        "\n",
        "```\n",
        "PREFIX...\n",
        "\n",
        ":acrobat a ontolex:LexicalEntry;\n",
        "  rdfs:label \"acrobat\"@en.\n",
        "\n",
        ":troupe a ontolex:LexicalEntry;\n",
        "  rdfs:label \"troupe\"@en.\n",
        "\n",
        ":meroMemember_01 a rdf:Relation;\n",
        "  rdf:source :acrobat ;\n",
        "  rdf:target :troupe ;\n",
        "  rdf:property bats:meronym_member ;\n",
        "  bats:rank \"1\"@int .\n",
        "\n",
        "```\n"
      ],
      "metadata": {
        "id": "3wBILg8Ix4cY"
      }
    },
    {
      "cell_type": "code",
      "source": [
        "%%capture \n",
        "!pip3 install rdflib "
      ],
      "metadata": {
        "id": "pjl3eO1VhPgF"
      },
      "execution_count": null,
      "outputs": []
    },
    {
      "cell_type": "code",
      "source": [
        "import sys\n",
        "import Wrapping_SPARQL_Python.ipynb as wrapper\n",
        "from rdflib import URIRef, Literal, Namespace\n",
        "from rdflib.namespace import RDFS, RDF\n",
        "\n",
        "command_args = sys.argv[1:]\n",
        "filename = command_args[0]\n",
        "\n",
        "\n",
        "# TODO: handle file spec\n",
        "with open(filename) as f:\n",
        "    \n",
        "    for line in f:\n",
        "      \n",
        "      terms = line.split()\n",
        "      lead_word = terms[0]\n",
        "      associated_terms = terms.split('/')\n",
        "\n",
        "      BATS = Namespace(\"https://vecto.space/projects/BATS/\")\n",
        "\n",
        "      ONTOLEX = Namespace(\"http://www.w3.org/ns/lemon/ontolex#\")\n",
        "      \n",
        "\n",
        "      entry_subj = URIRef(BATS + \"/{lead_word}\")\n",
        "\n",
        "      g = Graph()\n",
        "      g.bind(BATS)\n",
        "\n",
        "      # Creates entry word entry\n",
        "      g.add((entry_subj, RDF.type, ONTOLEX.LexicalEntry))\n",
        "      g.add((entry_subj, RDFS.label, Literal(lead_word, lang=\"en\")))\n",
        "\n",
        "      # Creates an ontloex entry and an RDF relation for each associated term\n",
        "      for count in range(len(associated_terms)):\n",
        "\n",
        "        curr_word = associated_terms[count]\n",
        "        curr_subj = URIRef(BATS + \"/{curr_word}\")\n",
        "\n",
        "        g.add((curr_subj, RDF.type, ONTOLEX.LexicalEntry))\n",
        "        g.add((curr_subj, RDFS.label, Literal(curr_word, lang = \"en\"))\n",
        "\n",
        "        # Maintains the rank of the current associated word\n",
        "        rank = str(count + 1).zfill(2)\n",
        "        mero_mem_subj = URIRef(\".../meroMember_{rank}\")\n",
        "        \n",
        "        g.add((mero_mem_subj, RDF.type, RDF.Relation))\n",
        "        g.add((mero_mem_subj, RDF.source, entry_subj))\n",
        "        g.add((mero_mem_subj, RDF.target, curr_subj))\n",
        "        g.add((mero_mem_subj, RDF.property, BATS.meronym_member))\n",
        "\n",
        "      wrapper.visualize(g)\n",
        "\n",
        "   # TODO: what to do with serialized graphs?\n",
        "\n",
        "\n",
        "\n",
        "\n",
        "\n",
        "\n",
        "      \n"
      ],
      "metadata": {
        "id": "EsGi7BMO07Ua"
      },
      "execution_count": null,
      "outputs": []
    }
  ]
}