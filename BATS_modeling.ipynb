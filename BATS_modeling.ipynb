{
  "nbformat": 4,
  "nbformat_minor": 0,
  "metadata": {
    "colab": {
      "name": "BATS-modeling.ipynb",
      "provenance": [],
      "authorship_tag": "ABX9TyND68ffUicFLDFTosMd6lQ6",
      "include_colab_link": true
    },
    "kernelspec": {
      "name": "python3",
      "display_name": "Python 3"
    },
    "language_info": {
      "name": "python"
    }
  },
  "cells": [
    {
      "cell_type": "markdown",
      "metadata": {
        "id": "view-in-github",
        "colab_type": "text"
      },
      "source": [
        "<a href=\"https://colab.research.google.com/github/serasset/llod-cloud-evaluator/blob/main/BATS_modeling.ipynb\" target=\"_parent\"><img src=\"https://colab.research.google.com/assets/colab-badge.svg\" alt=\"Open In Colab\"/></a>"
      ]
    },
    {
      "cell_type": "code",
      "execution_count": null,
      "metadata": {
        "id": "P9n_3Nycx3gp"
      },
      "outputs": [],
      "source": [
        ""
      ]
    },
    {
      "cell_type": "markdown",
      "source": [
        "# Transforming BATS to RDF\n",
        "\n",
        "Example of BATS structure: \n",
        "```\n",
        "acrobat\ttroupe\n",
        "antelope\therd\n",
        "bee\tswarm/hive/colony/drift/cast/nest/rabble/stand\n",
        "bird\tflock\n",
        "book\tlibrary/shelf/collection/accounting/accounting_system/method_of_accounting\n",
        "````\n",
        "\n",
        "Modeling in RDF, using Ontolex:\n",
        "\n",
        "```\n",
        "PREFIX...\n",
        "\n",
        ":acrobat a ontolex:LexicalEntry;\n",
        "  rdfs:label \"acrobat\"@en.\n",
        "\n",
        ":troupe a ontolex:LexicalEntry;\n",
        "  rdfs:label \"troupe\"@en.\n",
        "\n",
        ":meroMemember_01 a rdf:Relation;\n",
        "  rdf:source :acrobat ;\n",
        "  rdf:target :troupe ;\n",
        "  rdf:property bats:meronym_member ;\n",
        "  bats:rank \"1\"@int .\n",
        "\n",
        "```\n"
      ],
      "metadata": {
        "id": "3wBILg8Ix4cY"
      }
    }
  ]
}